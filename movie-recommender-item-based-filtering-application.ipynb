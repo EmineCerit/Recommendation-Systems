{
 "cells": [
  {
   "attachments": {
    "9b5c961b-28c2-46d6-846c-cb0bd5c3ad55.png": {
     "image/png": "[encoded data removed]"
    }
   },
   "cell_type": "markdown",
   "id": "33fdbbde",
   "metadata": {
    "_cell_guid": "b1076dfc-b9ad-4769-8c92-a6c4dae69d19",
    "_uuid": "8f2839f25d086af736a60e9eeb907d3b93b6e0e5",
    "papermill": {
     "duration": 0.018448,
     "end_time": "2022-01-09T22:57:01.888823",
     "exception": false,
     "start_time": "2022-01-09T22:57:01.870375",
     "status": "completed"
    },
    "tags": []
   },
   "source": [
    "## Introduction\n",
    "\n",
    "Item based collaborative filtering is a memory-based algorithm for recommender engines. The underlying assumption of this approach is that if Item 1 and Item 3 are considered similar as they are positively rated by both User 1 and User 2. Thus, Item 1 can be recommended to User 3 as it already shows interest in Item 3.\n",
    "\n",
    "\n",
    "![image.png](attachment:9b5c961b-28c2-46d6-846c-cb0bd5c3ad55.png)\n",
    "\n",
    "**Context**\n",
    "\n",
    "The datasets describe ratings and free-text tagging activities from MovieLens, a movie recommendation service. It contains 20000263 ratings and 465564 tag applications across 27278 movies. These data were created by 138493 users between January 09, 1995 and March 31, 2015. This dataset was generated on October 17, 2016.\n",
    "\n",
    "Users were selected at random for inclusion. All selected users had rated at least 20 movies.\n",
    "\n",
    "**Business Problem**\n",
    "\n",
    "Developing a recommendation system based on similarly rated films.\n",
    "\n",
    "**Attribute Information**\n",
    "\n",
    "The two files from the data will be used in this study as rating.csv and movie.csv\n",
    "\n",
    "rating.csv that contains ratings of movies by users:\n",
    "\n",
    "* userId\n",
    "* movieId\n",
    "* rating\n",
    "* timestamp\n",
    "movie.csv that contains movie information:\n",
    "\n",
    "* movieId\n",
    "* title\n",
    "* genres\n",
    "\n",
    "**Task Details**\n",
    "\n",
    "**Step 1:** Preparing the Data Set\n",
    "\n",
    "**Step 2:** Creating User Movie Df\n",
    "\n",
    "**Step 3:** Making Item-Based Movie Suggestions"
   ]
  },
  {
   "cell_type": "code",
   "execution_count": 1,
   "id": "0e098f4a",
   "metadata": {
    "execution": {
     "iopub.execute_input": "2022-01-09T22:57:01.935772Z",
     "iopub.status.busy": "2022-01-09T22:57:01.935049Z",
     "iopub.status.idle": "2022-01-09T22:57:13.173195Z",
     "shell.execute_reply": "2022-01-09T22:57:13.172379Z",
     "shell.execute_reply.started": "2022-01-09T21:09:24.561661Z"
    },
    "papermill": {
     "duration": 11.264889,
     "end_time": "2022-01-09T22:57:13.173357",
     "exception": false,
     "start_time": "2022-01-09T22:57:01.908468",
     "status": "completed"
    },
    "tags": []
   },
   "outputs": [
    {
     "name": "stdout",
     "output_type": "stream",
     "text": [
      "Collecting openpyxl\r\n",
      "  Downloading openpyxl-3.0.9-py2.py3-none-any.whl (242 kB)\r\n",
      "     |████████████████████████████████| 242 kB 888 kB/s            \r\n",
      "\u001b[?25hCollecting et-xmlfile\r\n",
      "  Downloading et_xmlfile-1.1.0-py3-none-any.whl (4.7 kB)\r\n",
      "Installing collected packages: et-xmlfile, openpyxl\r\n",
      "Successfully installed et-xmlfile-1.1.0 openpyxl-3.0.9\r\n",
      "\u001b[33mWARNING: Running pip as the 'root' user can result in broken permissions and conflicting behaviour with the system package manager. It is recommended to use a virtual environment instead: https://pip.pypa.io/warnings/venv\u001b[0m\r\n"
     ]
    }
   ],
   "source": [
    "import pandas as pd\n",
    "!pip install openpyxl"
   ]
  },
  {
   "cell_type": "code",
   "execution_count": 2,
   "id": "d71d6df0",
   "metadata": {
    "execution": {
     "iopub.execute_input": "2022-01-09T22:57:13.218722Z",
     "iopub.status.busy": "2022-01-09T22:57:13.218066Z",
     "iopub.status.idle": "2022-01-09T22:57:13.221077Z",
     "shell.execute_reply": "2022-01-09T22:57:13.220552Z",
     "shell.execute_reply.started": "2022-01-09T21:09:33.800008Z"
    },
    "papermill": {
     "duration": 0.027748,
     "end_time": "2022-01-09T22:57:13.221226",
     "exception": false,
     "start_time": "2022-01-09T22:57:13.193478",
     "status": "completed"
    },
    "tags": []
   },
   "outputs": [],
   "source": [
    "pd.set_option('display.max_columns', 20)\n",
    "pd.set_option('display.width', 500)"
   ]
  },
  {
   "cell_type": "markdown",
   "id": "b59b16d0",
   "metadata": {
    "papermill": {
     "duration": 0.019259,
     "end_time": "2022-01-09T22:57:13.260221",
     "exception": false,
     "start_time": "2022-01-09T22:57:13.240962",
     "status": "completed"
    },
    "tags": []
   },
   "source": [
    "## Step 1: Preparing the Data Set"
   ]
  },
  {
   "cell_type": "code",
   "execution_count": 3,
   "id": "31ee1eb5",
   "metadata": {
    "execution": {
     "iopub.execute_input": "2022-01-09T22:57:13.305887Z",
     "iopub.status.busy": "2022-01-09T22:57:13.305273Z",
     "iopub.status.idle": "2022-01-09T22:57:47.178710Z",
     "shell.execute_reply": "2022-01-09T22:57:47.179243Z",
     "shell.execute_reply.started": "2022-01-09T21:09:33.807316Z"
    },
    "papermill": {
     "duration": 33.899523,
     "end_time": "2022-01-09T22:57:47.179412",
     "exception": false,
     "start_time": "2022-01-09T22:57:13.279889",
     "status": "completed"
    },
    "tags": []
   },
   "outputs": [
    {
     "data": {
      "text/html": [
       "<div>\n",
       "<style scoped>\n",
       "    .dataframe tbody tr th:only-of-type {\n",
       "        vertical-align: middle;\n",
       "    }\n",
       "\n",
       "    .dataframe tbody tr th {\n",
       "        vertical-align: top;\n",
       "    }\n",
       "\n",
       "    .dataframe thead th {\n",
       "        text-align: right;\n",
       "    }\n",
       "</style>\n",
       "<table border=\"1\" class=\"dataframe\">\n",
       "  <thead>\n",
       "    <tr style=\"text-align: right;\">\n",
       "      <th></th>\n",
       "      <th>movieId</th>\n",
       "      <th>title</th>\n",
       "      <th>genres</th>\n",
       "      <th>userId</th>\n",
       "      <th>rating</th>\n",
       "      <th>timestamp</th>\n",
       "    </tr>\n",
       "  </thead>\n",
       "  <tbody>\n",
       "    <tr>\n",
       "      <th>0</th>\n",
       "      <td>1</td>\n",
       "      <td>Toy Story (1995)</td>\n",
       "      <td>Adventure|Animation|Children|Comedy|Fantasy</td>\n",
       "      <td>3.0</td>\n",
       "      <td>4.0</td>\n",
       "      <td>1999-12-11 13:36:47</td>\n",
       "    </tr>\n",
       "    <tr>\n",
       "      <th>1</th>\n",
       "      <td>1</td>\n",
       "      <td>Toy Story (1995)</td>\n",
       "      <td>Adventure|Animation|Children|Comedy|Fantasy</td>\n",
       "      <td>6.0</td>\n",
       "      <td>5.0</td>\n",
       "      <td>1997-03-13 17:50:52</td>\n",
       "    </tr>\n",
       "    <tr>\n",
       "      <th>2</th>\n",
       "      <td>1</td>\n",
       "      <td>Toy Story (1995)</td>\n",
       "      <td>Adventure|Animation|Children|Comedy|Fantasy</td>\n",
       "      <td>8.0</td>\n",
       "      <td>4.0</td>\n",
       "      <td>1996-06-05 13:37:51</td>\n",
       "    </tr>\n",
       "    <tr>\n",
       "      <th>3</th>\n",
       "      <td>1</td>\n",
       "      <td>Toy Story (1995)</td>\n",
       "      <td>Adventure|Animation|Children|Comedy|Fantasy</td>\n",
       "      <td>10.0</td>\n",
       "      <td>4.0</td>\n",
       "      <td>1999-11-25 02:44:47</td>\n",
       "    </tr>\n",
       "    <tr>\n",
       "      <th>4</th>\n",
       "      <td>1</td>\n",
       "      <td>Toy Story (1995)</td>\n",
       "      <td>Adventure|Animation|Children|Comedy|Fantasy</td>\n",
       "      <td>11.0</td>\n",
       "      <td>4.5</td>\n",
       "      <td>2009-01-02 01:13:41</td>\n",
       "    </tr>\n",
       "  </tbody>\n",
       "</table>\n",
       "</div>"
      ],
      "text/plain": [
       "   movieId             title                                       genres  userId  rating            timestamp\n",
       "0        1  Toy Story (1995)  Adventure|Animation|Children|Comedy|Fantasy     3.0     4.0  1999-12-11 13:36:47\n",
       "1        1  Toy Story (1995)  Adventure|Animation|Children|Comedy|Fantasy     6.0     5.0  1997-03-13 17:50:52\n",
       "2        1  Toy Story (1995)  Adventure|Animation|Children|Comedy|Fantasy     8.0     4.0  1996-06-05 13:37:51\n",
       "3        1  Toy Story (1995)  Adventure|Animation|Children|Comedy|Fantasy    10.0     4.0  1999-11-25 02:44:47\n",
       "4        1  Toy Story (1995)  Adventure|Animation|Children|Comedy|Fantasy    11.0     4.5  2009-01-02 01:13:41"
      ]
     },
     "execution_count": 3,
     "metadata": {},
     "output_type": "execute_result"
    }
   ],
   "source": [
    "movie = pd.read_csv('../input/movielens-20m-dataset/movie.csv')\n",
    "rating = pd.read_csv('../input/movielens-20m-dataset/rating.csv')\n",
    "df = movie.merge(rating, how=\"left\", on=\"movieId\")\n",
    "df.head()"
   ]
  },
  {
   "cell_type": "markdown",
   "id": "128d5b27",
   "metadata": {
    "papermill": {
     "duration": 0.01972,
     "end_time": "2022-01-09T22:57:47.219066",
     "exception": false,
     "start_time": "2022-01-09T22:57:47.199346",
     "status": "completed"
    },
    "tags": []
   },
   "source": [
    "## Step 2: Creating User Movie Df\n",
    "\n",
    "Our main goal is to create the user_movie matrix with users in rows and movies in columns."
   ]
  },
  {
   "cell_type": "code",
   "execution_count": 4,
   "id": "4b5c8e67",
   "metadata": {
    "execution": {
     "iopub.execute_input": "2022-01-09T22:57:47.262649Z",
     "iopub.status.busy": "2022-01-09T22:57:47.261998Z",
     "iopub.status.idle": "2022-01-09T22:57:47.266507Z",
     "shell.execute_reply": "2022-01-09T22:57:47.267069Z",
     "shell.execute_reply.started": "2022-01-09T21:10:11.549772Z"
    },
    "papermill": {
     "duration": 0.028273,
     "end_time": "2022-01-09T22:57:47.267241",
     "exception": false,
     "start_time": "2022-01-09T22:57:47.238968",
     "status": "completed"
    },
    "tags": []
   },
   "outputs": [
    {
     "data": {
      "text/plain": [
       "(20000797, 6)"
      ]
     },
     "execution_count": 4,
     "metadata": {},
     "output_type": "execute_result"
    }
   ],
   "source": [
    "df.shape"
   ]
  },
  {
   "cell_type": "markdown",
   "id": "81d4d41f",
   "metadata": {
    "papermill": {
     "duration": 0.020932,
     "end_time": "2022-01-09T22:57:47.308994",
     "exception": false,
     "start_time": "2022-01-09T22:57:47.288062",
     "status": "completed"
    },
    "tags": []
   },
   "source": [
    "The total number of comments is 20000797"
   ]
  },
  {
   "cell_type": "code",
   "execution_count": 5,
   "id": "a00efdf0",
   "metadata": {
    "execution": {
     "iopub.execute_input": "2022-01-09T22:57:47.354356Z",
     "iopub.status.busy": "2022-01-09T22:57:47.353706Z",
     "iopub.status.idle": "2022-01-09T22:57:49.303553Z",
     "shell.execute_reply": "2022-01-09T22:57:49.303027Z",
     "shell.execute_reply.started": "2022-01-09T21:10:11.559210Z"
    },
    "papermill": {
     "duration": 1.973851,
     "end_time": "2022-01-09T22:57:49.303696",
     "exception": false,
     "start_time": "2022-01-09T22:57:47.329845",
     "status": "completed"
    },
    "tags": []
   },
   "outputs": [
    {
     "data": {
      "text/plain": [
       "27262"
      ]
     },
     "execution_count": 5,
     "metadata": {},
     "output_type": "execute_result"
    }
   ],
   "source": [
    "df[\"title\"].nunique()"
   ]
  },
  {
   "cell_type": "markdown",
   "id": "6c841107",
   "metadata": {
    "papermill": {
     "duration": 0.020832,
     "end_time": "2022-01-09T22:57:49.346284",
     "exception": false,
     "start_time": "2022-01-09T22:57:49.325452",
     "status": "completed"
    },
    "tags": []
   },
   "source": [
    "The number of unique movies is 27262"
   ]
  },
  {
   "cell_type": "code",
   "execution_count": 6,
   "id": "2c2e7d10",
   "metadata": {
    "execution": {
     "iopub.execute_input": "2022-01-09T22:57:49.391068Z",
     "iopub.status.busy": "2022-01-09T22:57:49.390481Z",
     "iopub.status.idle": "2022-01-09T22:57:51.661782Z",
     "shell.execute_reply": "2022-01-09T22:57:51.662300Z",
     "shell.execute_reply.started": "2022-01-09T21:10:13.418800Z"
    },
    "papermill": {
     "duration": 2.2952,
     "end_time": "2022-01-09T22:57:51.662472",
     "exception": false,
     "start_time": "2022-01-09T22:57:49.367272",
     "status": "completed"
    },
    "tags": []
   },
   "outputs": [
    {
     "data": {
      "text/html": [
       "<div>\n",
       "<style scoped>\n",
       "    .dataframe tbody tr th:only-of-type {\n",
       "        vertical-align: middle;\n",
       "    }\n",
       "\n",
       "    .dataframe tbody tr th {\n",
       "        vertical-align: top;\n",
       "    }\n",
       "\n",
       "    .dataframe thead th {\n",
       "        text-align: right;\n",
       "    }\n",
       "</style>\n",
       "<table border=\"1\" class=\"dataframe\">\n",
       "  <thead>\n",
       "    <tr style=\"text-align: right;\">\n",
       "      <th></th>\n",
       "      <th>title</th>\n",
       "    </tr>\n",
       "  </thead>\n",
       "  <tbody>\n",
       "    <tr>\n",
       "      <th>Pulp Fiction (1994)</th>\n",
       "      <td>67310</td>\n",
       "    </tr>\n",
       "    <tr>\n",
       "      <th>Forrest Gump (1994)</th>\n",
       "      <td>66172</td>\n",
       "    </tr>\n",
       "    <tr>\n",
       "      <th>Shawshank Redemption, The (1994)</th>\n",
       "      <td>63366</td>\n",
       "    </tr>\n",
       "    <tr>\n",
       "      <th>Silence of the Lambs, The (1991)</th>\n",
       "      <td>63299</td>\n",
       "    </tr>\n",
       "    <tr>\n",
       "      <th>Jurassic Park (1993)</th>\n",
       "      <td>59715</td>\n",
       "    </tr>\n",
       "  </tbody>\n",
       "</table>\n",
       "</div>"
      ],
      "text/plain": [
       "                                  title\n",
       "Pulp Fiction (1994)               67310\n",
       "Forrest Gump (1994)               66172\n",
       "Shawshank Redemption, The (1994)  63366\n",
       "Silence of the Lambs, The (1991)  63299\n",
       "Jurassic Park (1993)              59715"
      ]
     },
     "execution_count": 6,
     "metadata": {},
     "output_type": "execute_result"
    }
   ],
   "source": [
    "rating_counts = pd.DataFrame(df[\"title\"].value_counts())\n",
    "rating_counts.head()"
   ]
  },
  {
   "cell_type": "markdown",
   "id": "38488b86",
   "metadata": {
    "papermill": {
     "duration": 0.020688,
     "end_time": "2022-01-09T22:57:51.704133",
     "exception": false,
     "start_time": "2022-01-09T22:57:51.683445",
     "status": "completed"
    },
    "tags": []
   },
   "source": [
    "Here the number of comments per movie can be seen\n",
    "\n",
    "Movies that do not receive much interaction can be excluded from the study in order to narrow the scope."
   ]
  },
  {
   "cell_type": "code",
   "execution_count": 7,
   "id": "d2be2d1a",
   "metadata": {
    "execution": {
     "iopub.execute_input": "2022-01-09T22:57:51.748984Z",
     "iopub.status.busy": "2022-01-09T22:57:51.748059Z",
     "iopub.status.idle": "2022-01-09T22:57:58.499473Z",
     "shell.execute_reply": "2022-01-09T22:57:58.498516Z",
     "shell.execute_reply.started": "2022-01-09T21:10:15.353253Z"
    },
    "papermill": {
     "duration": 6.77469,
     "end_time": "2022-01-09T22:57:58.499634",
     "exception": false,
     "start_time": "2022-01-09T22:57:51.724944",
     "status": "completed"
    },
    "tags": []
   },
   "outputs": [
    {
     "data": {
      "text/plain": [
       "(17766015, 6)"
      ]
     },
     "execution_count": 7,
     "metadata": {},
     "output_type": "execute_result"
    }
   ],
   "source": [
    "rare_movies = rating_counts[rating_counts[\"title\"] <= 1000].index\n",
    "\n",
    "common_movies = df[~df[\"title\"].isin(rare_movies)]\n",
    "\n",
    "common_movies.shape"
   ]
  },
  {
   "cell_type": "code",
   "execution_count": 8,
   "id": "3f8deadd",
   "metadata": {
    "execution": {
     "iopub.execute_input": "2022-01-09T22:57:58.546386Z",
     "iopub.status.busy": "2022-01-09T22:57:58.545487Z",
     "iopub.status.idle": "2022-01-09T22:58:00.279414Z",
     "shell.execute_reply": "2022-01-09T22:58:00.278742Z",
     "shell.execute_reply.started": "2022-01-09T21:10:23.904062Z"
    },
    "papermill": {
     "duration": 1.758323,
     "end_time": "2022-01-09T22:58:00.279555",
     "exception": false,
     "start_time": "2022-01-09T22:57:58.521232",
     "status": "completed"
    },
    "tags": []
   },
   "outputs": [
    {
     "data": {
      "text/plain": [
       "3159"
      ]
     },
     "execution_count": 8,
     "metadata": {},
     "output_type": "execute_result"
    }
   ],
   "source": [
    "common_movies[\"title\"].nunique()"
   ]
  },
  {
   "cell_type": "markdown",
   "id": "51bc9b3f",
   "metadata": {
    "papermill": {
     "duration": 0.02303,
     "end_time": "2022-01-09T22:58:00.324787",
     "exception": false,
     "start_time": "2022-01-09T22:58:00.301757",
     "status": "completed"
    },
    "tags": []
   },
   "source": [
    "After narrowing the scope to movies with 1000 or more comments, the total number of comments is 17766015 and the total number of movies is 3159.\n",
    "\n",
    "The next step is creating the user_movie matrix with users in rows and movies in columns."
   ]
  },
  {
   "cell_type": "code",
   "execution_count": 9,
   "id": "a60210d5",
   "metadata": {
    "execution": {
     "iopub.execute_input": "2022-01-09T22:58:00.372157Z",
     "iopub.status.busy": "2022-01-09T22:58:00.371544Z",
     "iopub.status.idle": "2022-01-09T22:58:41.219323Z",
     "shell.execute_reply": "2022-01-09T22:58:41.219920Z",
     "shell.execute_reply.started": "2022-01-09T21:10:25.601911Z"
    },
    "papermill": {
     "duration": 40.873082,
     "end_time": "2022-01-09T22:58:41.220110",
     "exception": false,
     "start_time": "2022-01-09T22:58:00.347028",
     "status": "completed"
    },
    "tags": []
   },
   "outputs": [
    {
     "data": {
      "text/plain": [
       "(138493, 3159)"
      ]
     },
     "execution_count": 9,
     "metadata": {},
     "output_type": "execute_result"
    }
   ],
   "source": [
    "user_movie_df = common_movies.pivot_table(index=[\"userId\"], columns=[\"title\"], values=\"rating\")\n",
    "\n",
    "user_movie_df.shape"
   ]
  },
  {
   "cell_type": "code",
   "execution_count": 10,
   "id": "7a1d1f56",
   "metadata": {
    "execution": {
     "iopub.execute_input": "2022-01-09T22:58:41.276407Z",
     "iopub.status.busy": "2022-01-09T22:58:41.275366Z",
     "iopub.status.idle": "2022-01-09T22:58:41.304977Z",
     "shell.execute_reply": "2022-01-09T22:58:41.305737Z",
     "shell.execute_reply.started": "2022-01-09T21:11:20.653900Z"
    },
    "papermill": {
     "duration": 0.06169,
     "end_time": "2022-01-09T22:58:41.305978",
     "exception": false,
     "start_time": "2022-01-09T22:58:41.244288",
     "status": "completed"
    },
    "tags": []
   },
   "outputs": [
    {
     "data": {
      "text/html": [
       "<div>\n",
       "<style scoped>\n",
       "    .dataframe tbody tr th:only-of-type {\n",
       "        vertical-align: middle;\n",
       "    }\n",
       "\n",
       "    .dataframe tbody tr th {\n",
       "        vertical-align: top;\n",
       "    }\n",
       "\n",
       "    .dataframe thead th {\n",
       "        text-align: right;\n",
       "    }\n",
       "</style>\n",
       "<table border=\"1\" class=\"dataframe\">\n",
       "  <thead>\n",
       "    <tr style=\"text-align: right;\">\n",
       "      <th>title</th>\n",
       "      <th>'burbs, The (1989)</th>\n",
       "      <th>(500) Days of Summer (2009)</th>\n",
       "      <th>*batteries not included (1987)</th>\n",
       "      <th>...And Justice for All (1979)</th>\n",
       "      <th>10 Things I Hate About You (1999)</th>\n",
       "      <th>10,000 BC (2008)</th>\n",
       "      <th>101 Dalmatians (1996)</th>\n",
       "      <th>101 Dalmatians (One Hundred and One Dalmatians) (1961)</th>\n",
       "      <th>102 Dalmatians (2000)</th>\n",
       "      <th>12 Angry Men (1957)</th>\n",
       "      <th>...</th>\n",
       "      <th>Zero Dark Thirty (2012)</th>\n",
       "      <th>Zero Effect (1998)</th>\n",
       "      <th>Zodiac (2007)</th>\n",
       "      <th>Zombieland (2009)</th>\n",
       "      <th>Zoolander (2001)</th>\n",
       "      <th>Zulu (1964)</th>\n",
       "      <th>[REC] (2007)</th>\n",
       "      <th>eXistenZ (1999)</th>\n",
       "      <th>xXx (2002)</th>\n",
       "      <th>¡Three Amigos! (1986)</th>\n",
       "    </tr>\n",
       "    <tr>\n",
       "      <th>userId</th>\n",
       "      <th></th>\n",
       "      <th></th>\n",
       "      <th></th>\n",
       "      <th></th>\n",
       "      <th></th>\n",
       "      <th></th>\n",
       "      <th></th>\n",
       "      <th></th>\n",
       "      <th></th>\n",
       "      <th></th>\n",
       "      <th></th>\n",
       "      <th></th>\n",
       "      <th></th>\n",
       "      <th></th>\n",
       "      <th></th>\n",
       "      <th></th>\n",
       "      <th></th>\n",
       "      <th></th>\n",
       "      <th></th>\n",
       "      <th></th>\n",
       "      <th></th>\n",
       "    </tr>\n",
       "  </thead>\n",
       "  <tbody>\n",
       "    <tr>\n",
       "      <th>1.0</th>\n",
       "      <td>NaN</td>\n",
       "      <td>NaN</td>\n",
       "      <td>NaN</td>\n",
       "      <td>NaN</td>\n",
       "      <td>NaN</td>\n",
       "      <td>NaN</td>\n",
       "      <td>NaN</td>\n",
       "      <td>NaN</td>\n",
       "      <td>NaN</td>\n",
       "      <td>NaN</td>\n",
       "      <td>...</td>\n",
       "      <td>NaN</td>\n",
       "      <td>NaN</td>\n",
       "      <td>NaN</td>\n",
       "      <td>NaN</td>\n",
       "      <td>NaN</td>\n",
       "      <td>NaN</td>\n",
       "      <td>NaN</td>\n",
       "      <td>NaN</td>\n",
       "      <td>NaN</td>\n",
       "      <td>NaN</td>\n",
       "    </tr>\n",
       "    <tr>\n",
       "      <th>2.0</th>\n",
       "      <td>NaN</td>\n",
       "      <td>NaN</td>\n",
       "      <td>NaN</td>\n",
       "      <td>NaN</td>\n",
       "      <td>NaN</td>\n",
       "      <td>NaN</td>\n",
       "      <td>NaN</td>\n",
       "      <td>NaN</td>\n",
       "      <td>NaN</td>\n",
       "      <td>NaN</td>\n",
       "      <td>...</td>\n",
       "      <td>NaN</td>\n",
       "      <td>NaN</td>\n",
       "      <td>NaN</td>\n",
       "      <td>NaN</td>\n",
       "      <td>NaN</td>\n",
       "      <td>NaN</td>\n",
       "      <td>NaN</td>\n",
       "      <td>NaN</td>\n",
       "      <td>NaN</td>\n",
       "      <td>NaN</td>\n",
       "    </tr>\n",
       "    <tr>\n",
       "      <th>3.0</th>\n",
       "      <td>NaN</td>\n",
       "      <td>NaN</td>\n",
       "      <td>NaN</td>\n",
       "      <td>NaN</td>\n",
       "      <td>NaN</td>\n",
       "      <td>NaN</td>\n",
       "      <td>NaN</td>\n",
       "      <td>NaN</td>\n",
       "      <td>NaN</td>\n",
       "      <td>NaN</td>\n",
       "      <td>...</td>\n",
       "      <td>NaN</td>\n",
       "      <td>NaN</td>\n",
       "      <td>NaN</td>\n",
       "      <td>NaN</td>\n",
       "      <td>NaN</td>\n",
       "      <td>NaN</td>\n",
       "      <td>NaN</td>\n",
       "      <td>NaN</td>\n",
       "      <td>NaN</td>\n",
       "      <td>NaN</td>\n",
       "    </tr>\n",
       "    <tr>\n",
       "      <th>4.0</th>\n",
       "      <td>NaN</td>\n",
       "      <td>NaN</td>\n",
       "      <td>NaN</td>\n",
       "      <td>NaN</td>\n",
       "      <td>NaN</td>\n",
       "      <td>NaN</td>\n",
       "      <td>NaN</td>\n",
       "      <td>NaN</td>\n",
       "      <td>NaN</td>\n",
       "      <td>NaN</td>\n",
       "      <td>...</td>\n",
       "      <td>NaN</td>\n",
       "      <td>NaN</td>\n",
       "      <td>NaN</td>\n",
       "      <td>NaN</td>\n",
       "      <td>NaN</td>\n",
       "      <td>NaN</td>\n",
       "      <td>NaN</td>\n",
       "      <td>NaN</td>\n",
       "      <td>NaN</td>\n",
       "      <td>NaN</td>\n",
       "    </tr>\n",
       "    <tr>\n",
       "      <th>5.0</th>\n",
       "      <td>NaN</td>\n",
       "      <td>NaN</td>\n",
       "      <td>NaN</td>\n",
       "      <td>NaN</td>\n",
       "      <td>NaN</td>\n",
       "      <td>NaN</td>\n",
       "      <td>NaN</td>\n",
       "      <td>NaN</td>\n",
       "      <td>NaN</td>\n",
       "      <td>NaN</td>\n",
       "      <td>...</td>\n",
       "      <td>NaN</td>\n",
       "      <td>NaN</td>\n",
       "      <td>NaN</td>\n",
       "      <td>NaN</td>\n",
       "      <td>NaN</td>\n",
       "      <td>NaN</td>\n",
       "      <td>NaN</td>\n",
       "      <td>NaN</td>\n",
       "      <td>NaN</td>\n",
       "      <td>NaN</td>\n",
       "    </tr>\n",
       "    <tr>\n",
       "      <th>6.0</th>\n",
       "      <td>NaN</td>\n",
       "      <td>NaN</td>\n",
       "      <td>NaN</td>\n",
       "      <td>NaN</td>\n",
       "      <td>NaN</td>\n",
       "      <td>NaN</td>\n",
       "      <td>NaN</td>\n",
       "      <td>NaN</td>\n",
       "      <td>NaN</td>\n",
       "      <td>NaN</td>\n",
       "      <td>...</td>\n",
       "      <td>NaN</td>\n",
       "      <td>NaN</td>\n",
       "      <td>NaN</td>\n",
       "      <td>NaN</td>\n",
       "      <td>NaN</td>\n",
       "      <td>NaN</td>\n",
       "      <td>NaN</td>\n",
       "      <td>NaN</td>\n",
       "      <td>NaN</td>\n",
       "      <td>NaN</td>\n",
       "    </tr>\n",
       "    <tr>\n",
       "      <th>7.0</th>\n",
       "      <td>NaN</td>\n",
       "      <td>NaN</td>\n",
       "      <td>NaN</td>\n",
       "      <td>NaN</td>\n",
       "      <td>NaN</td>\n",
       "      <td>NaN</td>\n",
       "      <td>NaN</td>\n",
       "      <td>NaN</td>\n",
       "      <td>NaN</td>\n",
       "      <td>NaN</td>\n",
       "      <td>...</td>\n",
       "      <td>NaN</td>\n",
       "      <td>NaN</td>\n",
       "      <td>NaN</td>\n",
       "      <td>NaN</td>\n",
       "      <td>NaN</td>\n",
       "      <td>NaN</td>\n",
       "      <td>NaN</td>\n",
       "      <td>NaN</td>\n",
       "      <td>NaN</td>\n",
       "      <td>2.0</td>\n",
       "    </tr>\n",
       "    <tr>\n",
       "      <th>8.0</th>\n",
       "      <td>NaN</td>\n",
       "      <td>NaN</td>\n",
       "      <td>NaN</td>\n",
       "      <td>NaN</td>\n",
       "      <td>NaN</td>\n",
       "      <td>NaN</td>\n",
       "      <td>NaN</td>\n",
       "      <td>NaN</td>\n",
       "      <td>NaN</td>\n",
       "      <td>NaN</td>\n",
       "      <td>...</td>\n",
       "      <td>NaN</td>\n",
       "      <td>NaN</td>\n",
       "      <td>NaN</td>\n",
       "      <td>NaN</td>\n",
       "      <td>NaN</td>\n",
       "      <td>NaN</td>\n",
       "      <td>NaN</td>\n",
       "      <td>NaN</td>\n",
       "      <td>NaN</td>\n",
       "      <td>NaN</td>\n",
       "    </tr>\n",
       "    <tr>\n",
       "      <th>9.0</th>\n",
       "      <td>NaN</td>\n",
       "      <td>NaN</td>\n",
       "      <td>NaN</td>\n",
       "      <td>NaN</td>\n",
       "      <td>NaN</td>\n",
       "      <td>NaN</td>\n",
       "      <td>NaN</td>\n",
       "      <td>NaN</td>\n",
       "      <td>NaN</td>\n",
       "      <td>NaN</td>\n",
       "      <td>...</td>\n",
       "      <td>NaN</td>\n",
       "      <td>NaN</td>\n",
       "      <td>NaN</td>\n",
       "      <td>NaN</td>\n",
       "      <td>NaN</td>\n",
       "      <td>NaN</td>\n",
       "      <td>NaN</td>\n",
       "      <td>NaN</td>\n",
       "      <td>NaN</td>\n",
       "      <td>NaN</td>\n",
       "    </tr>\n",
       "    <tr>\n",
       "      <th>10.0</th>\n",
       "      <td>NaN</td>\n",
       "      <td>NaN</td>\n",
       "      <td>NaN</td>\n",
       "      <td>NaN</td>\n",
       "      <td>NaN</td>\n",
       "      <td>NaN</td>\n",
       "      <td>NaN</td>\n",
       "      <td>NaN</td>\n",
       "      <td>NaN</td>\n",
       "      <td>NaN</td>\n",
       "      <td>...</td>\n",
       "      <td>NaN</td>\n",
       "      <td>NaN</td>\n",
       "      <td>NaN</td>\n",
       "      <td>NaN</td>\n",
       "      <td>NaN</td>\n",
       "      <td>NaN</td>\n",
       "      <td>NaN</td>\n",
       "      <td>NaN</td>\n",
       "      <td>NaN</td>\n",
       "      <td>NaN</td>\n",
       "    </tr>\n",
       "  </tbody>\n",
       "</table>\n",
       "<p>10 rows × 3159 columns</p>\n",
       "</div>"
      ],
      "text/plain": [
       "title   'burbs, The (1989)  (500) Days of Summer (2009)  *batteries not included (1987)  ...And Justice for All (1979)  10 Things I Hate About You (1999)  10,000 BC (2008)  101 Dalmatians (1996)  101 Dalmatians (One Hundred and One Dalmatians) (1961)  102 Dalmatians (2000)  12 Angry Men (1957)  ...  Zero Dark Thirty (2012)  Zero Effect (1998)  Zodiac (2007)  Zombieland (2009)  Zoolander (2001)  Zulu (1964)  [REC] (2007)  eXistenZ (1999)  xXx (2002)  ¡Three Amigos! (1986)\n",
       "userId                                                                                                                                                                                                                                                                                                  ...                                                                                                                                                                                \n",
       "1.0                    NaN                          NaN                             NaN                            NaN                                NaN               NaN                    NaN                                                NaN                         NaN                  NaN  ...                      NaN                 NaN            NaN                NaN               NaN          NaN           NaN              NaN         NaN                    NaN\n",
       "2.0                    NaN                          NaN                             NaN                            NaN                                NaN               NaN                    NaN                                                NaN                         NaN                  NaN  ...                      NaN                 NaN            NaN                NaN               NaN          NaN           NaN              NaN         NaN                    NaN\n",
       "3.0                    NaN                          NaN                             NaN                            NaN                                NaN               NaN                    NaN                                                NaN                         NaN                  NaN  ...                      NaN                 NaN            NaN                NaN               NaN          NaN           NaN              NaN         NaN                    NaN\n",
       "4.0                    NaN                          NaN                             NaN                            NaN                                NaN               NaN                    NaN                                                NaN                         NaN                  NaN  ...                      NaN                 NaN            NaN                NaN               NaN          NaN           NaN              NaN         NaN                    NaN\n",
       "5.0                    NaN                          NaN                             NaN                            NaN                                NaN               NaN                    NaN                                                NaN                         NaN                  NaN  ...                      NaN                 NaN            NaN                NaN               NaN          NaN           NaN              NaN         NaN                    NaN\n",
       "6.0                    NaN                          NaN                             NaN                            NaN                                NaN               NaN                    NaN                                                NaN                         NaN                  NaN  ...                      NaN                 NaN            NaN                NaN               NaN          NaN           NaN              NaN         NaN                    NaN\n",
       "7.0                    NaN                          NaN                             NaN                            NaN                                NaN               NaN                    NaN                                                NaN                         NaN                  NaN  ...                      NaN                 NaN            NaN                NaN               NaN          NaN           NaN              NaN         NaN                    2.0\n",
       "8.0                    NaN                          NaN                             NaN                            NaN                                NaN               NaN                    NaN                                                NaN                         NaN                  NaN  ...                      NaN                 NaN            NaN                NaN               NaN          NaN           NaN              NaN         NaN                    NaN\n",
       "9.0                    NaN                          NaN                             NaN                            NaN                                NaN               NaN                    NaN                                                NaN                         NaN                  NaN  ...                      NaN                 NaN            NaN                NaN               NaN          NaN           NaN              NaN         NaN                    NaN\n",
       "10.0                   NaN                          NaN                             NaN                            NaN                                NaN               NaN                    NaN                                                NaN                         NaN                  NaN  ...                      NaN                 NaN            NaN                NaN               NaN          NaN           NaN              NaN         NaN                    NaN\n",
       "\n",
       "[10 rows x 3159 columns]"
      ]
     },
     "execution_count": 10,
     "metadata": {},
     "output_type": "execute_result"
    }
   ],
   "source": [
    "user_movie_df.head(10)"
   ]
  },
  {
   "cell_type": "markdown",
   "id": "7287a464",
   "metadata": {
    "papermill": {
     "duration": 0.022794,
     "end_time": "2022-01-09T22:58:41.357815",
     "exception": false,
     "start_time": "2022-01-09T22:58:41.335021",
     "status": "completed"
    },
    "tags": []
   },
   "source": [
    "## Step 3: Making Item-Based Movie Suggestions\n",
    "\n",
    "\n",
    "Now that we have the user-movie matrix, we can calculate the correlations.\n",
    "In user_movie_df the columns were the movie name, then if we fetch this column the user id-movie scores will come. This will be assigned to a variable named movie name.\n",
    "\n"
   ]
  },
  {
   "cell_type": "code",
   "execution_count": 11,
   "id": "9f23e3af",
   "metadata": {
    "execution": {
     "iopub.execute_input": "2022-01-09T22:58:41.423014Z",
     "iopub.status.busy": "2022-01-09T22:58:41.422245Z",
     "iopub.status.idle": "2022-01-09T22:58:41.423846Z",
     "shell.execute_reply": "2022-01-09T22:58:41.424456Z",
     "shell.execute_reply.started": "2022-01-09T21:11:20.692674Z"
    },
    "papermill": {
     "duration": 0.03854,
     "end_time": "2022-01-09T22:58:41.424627",
     "exception": false,
     "start_time": "2022-01-09T22:58:41.386087",
     "status": "completed"
    },
    "tags": []
   },
   "outputs": [],
   "source": [
    "movie_name = \"Matrix, The (1999)\"\n",
    "movie_name = user_movie_df[movie_name]"
   ]
  },
  {
   "cell_type": "markdown",
   "id": "792f8d23",
   "metadata": {
    "papermill": {
     "duration": 0.023101,
     "end_time": "2022-01-09T22:58:41.473021",
     "exception": false,
     "start_time": "2022-01-09T22:58:41.449920",
     "status": "completed"
    },
    "tags": []
   },
   "source": [
    "There is only the matrix movie and the points given to it. The next step is to look at the correlation between this movie and other movies."
   ]
  },
  {
   "cell_type": "code",
   "execution_count": 12,
   "id": "ae162e46",
   "metadata": {
    "execution": {
     "iopub.execute_input": "2022-01-09T22:58:41.523714Z",
     "iopub.status.busy": "2022-01-09T22:58:41.523034Z",
     "iopub.status.idle": "2022-01-09T22:58:44.428970Z",
     "shell.execute_reply": "2022-01-09T22:58:44.428420Z",
     "shell.execute_reply.started": "2022-01-09T21:11:20.699536Z"
    },
    "papermill": {
     "duration": 2.932638,
     "end_time": "2022-01-09T22:58:44.429136",
     "exception": false,
     "start_time": "2022-01-09T22:58:41.496498",
     "status": "completed"
    },
    "tags": []
   },
   "outputs": [
    {
     "data": {
      "text/plain": [
       "title\n",
       "Matrix, The (1999)                                           1.000000\n",
       "Matrix Reloaded, The (2003)                                  0.516906\n",
       "Matrix Revolutions, The (2003)                               0.449588\n",
       "Animatrix, The (2003)                                        0.367151\n",
       "Blade (1998)                                                 0.334493\n",
       "Terminator 2: Judgment Day (1991)                            0.333882\n",
       "Minority Report (2002)                                       0.332434\n",
       "Edge of Tomorrow (2014)                                      0.326762\n",
       "Mission: Impossible (1996)                                   0.320815\n",
       "Lord of the Rings: The Fellowship of the Ring, The (2001)    0.318726\n",
       "dtype: float64"
      ]
     },
     "execution_count": 12,
     "metadata": {},
     "output_type": "execute_result"
    }
   ],
   "source": [
    "user_movie_df.corrwith(movie_name).sort_values(ascending=False).head(10)"
   ]
  },
  {
   "cell_type": "markdown",
   "id": "b515ba81",
   "metadata": {
    "papermill": {
     "duration": 0.023746,
     "end_time": "2022-01-09T22:58:44.476627",
     "exception": false,
     "start_time": "2022-01-09T22:58:44.452881",
     "status": "completed"
    },
    "tags": []
   },
   "source": [
    "The first movie is the movie we are looking for similar ones, so we are listing the movies other than that.\n",
    "\n",
    "Below are the top five movies recommended by the item-based recommendation system for The Matrix movie."
   ]
  },
  {
   "cell_type": "code",
   "execution_count": 13,
   "id": "83f513fe",
   "metadata": {
    "execution": {
     "iopub.execute_input": "2022-01-09T22:58:44.528697Z",
     "iopub.status.busy": "2022-01-09T22:58:44.527294Z",
     "iopub.status.idle": "2022-01-09T22:58:47.501914Z",
     "shell.execute_reply": "2022-01-09T22:58:47.501359Z",
     "shell.execute_reply.started": "2022-01-09T21:11:23.693676Z"
    },
    "papermill": {
     "duration": 3.001673,
     "end_time": "2022-01-09T22:58:47.502061",
     "exception": false,
     "start_time": "2022-01-09T22:58:44.500388",
     "status": "completed"
    },
    "tags": []
   },
   "outputs": [
    {
     "data": {
      "text/plain": [
       "title\n",
       "Matrix Reloaded, The (2003)          0.516906\n",
       "Matrix Revolutions, The (2003)       0.449588\n",
       "Animatrix, The (2003)                0.367151\n",
       "Blade (1998)                         0.334493\n",
       "Terminator 2: Judgment Day (1991)    0.333882\n",
       "dtype: float64"
      ]
     },
     "execution_count": 13,
     "metadata": {},
     "output_type": "execute_result"
    }
   ],
   "source": [
    "user_movie_df.corrwith(movie_name).sort_values(ascending=False)[1:6]"
   ]
  }
 ],
 "metadata": {
  "kernelspec": {
   "display_name": "Python 3",
   "language": "python",
   "name": "python3"
  },
  "language_info": {
   "codemirror_mode": {
    "name": "ipython",
    "version": 3
   },
   "file_extension": ".py",
   "mimetype": "text/x-python",
   "name": "python",
   "nbconvert_exporter": "python",
   "pygments_lexer": "ipython3",
   "version": "3.7.12"
  },
  "papermill": {
   "default_parameters": {},
   "duration": 118.271212,
   "end_time": "2022-01-09T22:58:50.235618",
   "environment_variables": {},
   "exception": null,
   "input_path": "__notebook__.ipynb",
   "output_path": "__notebook__.ipynb",
   "parameters": {},
   "start_time": "2022-01-09T22:56:51.964406",
   "version": "2.3.3"
  }
 },
 "nbformat": 4,
 "nbformat_minor": 5
}
